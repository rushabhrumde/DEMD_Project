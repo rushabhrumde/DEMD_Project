{
  "nbformat": 4,
  "nbformat_minor": 0,
  "metadata": {
    "colab": {
      "name": "IMDB_Text_Classification.ipynb",
      "provenance": []
    },
    "kernelspec": {
      "name": "python3",
      "display_name": "Python 3"
    },
    "language_info": {
      "name": "python"
    }
  },
  "cells": [
    {
      "cell_type": "code",
      "metadata": {
        "id": "rmtySlfcPfTi"
      },
      "source": [
        "# Importing necessary libraries\n",
        "\n",
        "import tensorflow as tf\n",
        "import pandas as pd\n",
        "import numpy as np\n",
        "import matplotlib.pyplot as plt\n",
        "import seaborn as sns\n",
        "import nltk\n",
        "import re\n",
        "from sklearn.model_selection import train_test_split\n",
        "%matplotlib inline"
      ],
      "execution_count": null,
      "outputs": []
    },
    {
      "cell_type": "code",
      "metadata": {
        "colab": {
          "base_uri": "https://localhost:8080/",
          "height": 35
        },
        "id": "HbSbFxONPz1k",
        "outputId": "758bfecd-e401-41b0-b3a7-47a327e82360"
      },
      "source": [
        "tf.__version__"
      ],
      "execution_count": null,
      "outputs": [
        {
          "output_type": "execute_result",
          "data": {
            "application/vnd.google.colaboratory.intrinsic+json": {
              "type": "string"
            },
            "text/plain": [
              "'2.4.1'"
            ]
          },
          "metadata": {
            "tags": []
          },
          "execution_count": 2
        }
      ]
    },
    {
      "cell_type": "code",
      "metadata": {
        "colab": {
          "base_uri": "https://localhost:8080/",
          "height": 391
        },
        "id": "H2PHWiubP4W3",
        "outputId": "9a10e6e4-77ab-47f7-c372-a04d292843a9"
      },
      "source": [
        "# Reading the dataset\n",
        "df=pd.read_csv('/content/drive/MyDrive/IMDB Dataset.csv')\n",
        "df"
      ],
      "execution_count": null,
      "outputs": [
        {
          "output_type": "execute_result",
          "data": {
            "text/html": [
              "<div>\n",
              "<style scoped>\n",
              "    .dataframe tbody tr th:only-of-type {\n",
              "        vertical-align: middle;\n",
              "    }\n",
              "\n",
              "    .dataframe tbody tr th {\n",
              "        vertical-align: top;\n",
              "    }\n",
              "\n",
              "    .dataframe thead th {\n",
              "        text-align: right;\n",
              "    }\n",
              "</style>\n",
              "<table border=\"1\" class=\"dataframe\">\n",
              "  <thead>\n",
              "    <tr style=\"text-align: right;\">\n",
              "      <th></th>\n",
              "      <th>review</th>\n",
              "      <th>sentiment</th>\n",
              "    </tr>\n",
              "  </thead>\n",
              "  <tbody>\n",
              "    <tr>\n",
              "      <th>0</th>\n",
              "      <td>One of the other reviewers has mentioned that ...</td>\n",
              "      <td>positive</td>\n",
              "    </tr>\n",
              "    <tr>\n",
              "      <th>1</th>\n",
              "      <td>A wonderful little production. &lt;br /&gt;&lt;br /&gt;The...</td>\n",
              "      <td>positive</td>\n",
              "    </tr>\n",
              "    <tr>\n",
              "      <th>2</th>\n",
              "      <td>I thought this was a wonderful way to spend ti...</td>\n",
              "      <td>positive</td>\n",
              "    </tr>\n",
              "    <tr>\n",
              "      <th>3</th>\n",
              "      <td>Basically there's a family where a little boy ...</td>\n",
              "      <td>negative</td>\n",
              "    </tr>\n",
              "    <tr>\n",
              "      <th>4</th>\n",
              "      <td>Petter Mattei's \"Love in the Time of Money\" is...</td>\n",
              "      <td>positive</td>\n",
              "    </tr>\n",
              "    <tr>\n",
              "      <th>...</th>\n",
              "      <td>...</td>\n",
              "      <td>...</td>\n",
              "    </tr>\n",
              "    <tr>\n",
              "      <th>49995</th>\n",
              "      <td>I thought this movie did a down right good job...</td>\n",
              "      <td>positive</td>\n",
              "    </tr>\n",
              "    <tr>\n",
              "      <th>49996</th>\n",
              "      <td>Bad plot, bad dialogue, bad acting, idiotic di...</td>\n",
              "      <td>negative</td>\n",
              "    </tr>\n",
              "    <tr>\n",
              "      <th>49997</th>\n",
              "      <td>I am a Catholic taught in parochial elementary...</td>\n",
              "      <td>negative</td>\n",
              "    </tr>\n",
              "    <tr>\n",
              "      <th>49998</th>\n",
              "      <td>I'm going to have to disagree with the previou...</td>\n",
              "      <td>negative</td>\n",
              "    </tr>\n",
              "    <tr>\n",
              "      <th>49999</th>\n",
              "      <td>No one expects the Star Trek movies to be high...</td>\n",
              "      <td>negative</td>\n",
              "    </tr>\n",
              "  </tbody>\n",
              "</table>\n",
              "<p>50000 rows × 2 columns</p>\n",
              "</div>"
            ],
            "text/plain": [
              "                                                  review sentiment\n",
              "0      One of the other reviewers has mentioned that ...  positive\n",
              "1      A wonderful little production. <br /><br />The...  positive\n",
              "2      I thought this was a wonderful way to spend ti...  positive\n",
              "3      Basically there's a family where a little boy ...  negative\n",
              "4      Petter Mattei's \"Love in the Time of Money\" is...  positive\n",
              "...                                                  ...       ...\n",
              "49995  I thought this movie did a down right good job...  positive\n",
              "49996  Bad plot, bad dialogue, bad acting, idiotic di...  negative\n",
              "49997  I am a Catholic taught in parochial elementary...  negative\n",
              "49998  I'm going to have to disagree with the previou...  negative\n",
              "49999  No one expects the Star Trek movies to be high...  negative\n",
              "\n",
              "[50000 rows x 2 columns]"
            ]
          },
          "metadata": {
            "tags": []
          },
          "execution_count": 4
        }
      ]
    },
    {
      "cell_type": "code",
      "metadata": {
        "colab": {
          "base_uri": "https://localhost:8080/"
        },
        "id": "IW2N-cYSQ7CU",
        "outputId": "c2080325-7bc4-4e71-cba4-7676c396b323"
      },
      "source": [
        "# There are 50k reviews of movies.\n",
        "df.shape"
      ],
      "execution_count": null,
      "outputs": [
        {
          "output_type": "execute_result",
          "data": {
            "text/plain": [
              "(50000, 2)"
            ]
          },
          "metadata": {
            "tags": []
          },
          "execution_count": 5
        }
      ]
    },
    {
      "cell_type": "code",
      "metadata": {
        "colab": {
          "base_uri": "https://localhost:8080/"
        },
        "id": "VyV8lda0RIpf",
        "outputId": "6eaac4c8-6223-4859-da47-db1f44db3f1e"
      },
      "source": [
        "# It's a balanced distribution of both sentiments\n",
        "df['sentiment'].value_counts()"
      ],
      "execution_count": null,
      "outputs": [
        {
          "output_type": "execute_result",
          "data": {
            "text/plain": [
              "positive    25000\n",
              "negative    25000\n",
              "Name: sentiment, dtype: int64"
            ]
          },
          "metadata": {
            "tags": []
          },
          "execution_count": 6
        }
      ]
    },
    {
      "cell_type": "code",
      "metadata": {
        "id": "XRLRo9kpRLqS"
      },
      "source": [
        "df['sentiment'] = df['sentiment'].map({'positive' : 1, 'negative': 0})"
      ],
      "execution_count": null,
      "outputs": []
    },
    {
      "cell_type": "code",
      "metadata": {
        "colab": {
          "base_uri": "https://localhost:8080/",
          "height": 191
        },
        "id": "Tv4BwMlEROtP",
        "outputId": "025786df-3489-4f3b-90d1-faf622d93c0b"
      },
      "source": [
        "df.head()"
      ],
      "execution_count": null,
      "outputs": [
        {
          "output_type": "execute_result",
          "data": {
            "text/html": [
              "<div>\n",
              "<style scoped>\n",
              "    .dataframe tbody tr th:only-of-type {\n",
              "        vertical-align: middle;\n",
              "    }\n",
              "\n",
              "    .dataframe tbody tr th {\n",
              "        vertical-align: top;\n",
              "    }\n",
              "\n",
              "    .dataframe thead th {\n",
              "        text-align: right;\n",
              "    }\n",
              "</style>\n",
              "<table border=\"1\" class=\"dataframe\">\n",
              "  <thead>\n",
              "    <tr style=\"text-align: right;\">\n",
              "      <th></th>\n",
              "      <th>review</th>\n",
              "      <th>sentiment</th>\n",
              "    </tr>\n",
              "  </thead>\n",
              "  <tbody>\n",
              "    <tr>\n",
              "      <th>0</th>\n",
              "      <td>One of the other reviewers has mentioned that ...</td>\n",
              "      <td>1</td>\n",
              "    </tr>\n",
              "    <tr>\n",
              "      <th>1</th>\n",
              "      <td>A wonderful little production. &lt;br /&gt;&lt;br /&gt;The...</td>\n",
              "      <td>1</td>\n",
              "    </tr>\n",
              "    <tr>\n",
              "      <th>2</th>\n",
              "      <td>I thought this was a wonderful way to spend ti...</td>\n",
              "      <td>1</td>\n",
              "    </tr>\n",
              "    <tr>\n",
              "      <th>3</th>\n",
              "      <td>Basically there's a family where a little boy ...</td>\n",
              "      <td>0</td>\n",
              "    </tr>\n",
              "    <tr>\n",
              "      <th>4</th>\n",
              "      <td>Petter Mattei's \"Love in the Time of Money\" is...</td>\n",
              "      <td>1</td>\n",
              "    </tr>\n",
              "  </tbody>\n",
              "</table>\n",
              "</div>"
            ],
            "text/plain": [
              "                                              review  sentiment\n",
              "0  One of the other reviewers has mentioned that ...          1\n",
              "1  A wonderful little production. <br /><br />The...          1\n",
              "2  I thought this was a wonderful way to spend ti...          1\n",
              "3  Basically there's a family where a little boy ...          0\n",
              "4  Petter Mattei's \"Love in the Time of Money\" is...          1"
            ]
          },
          "metadata": {
            "tags": []
          },
          "execution_count": 8
        }
      ]
    },
    {
      "cell_type": "code",
      "metadata": {
        "id": "I5bG1mxsRQyv"
      },
      "source": [
        "df_temp = df.copy()"
      ],
      "execution_count": null,
      "outputs": []
    },
    {
      "cell_type": "code",
      "metadata": {
        "colab": {
          "base_uri": "https://localhost:8080/"
        },
        "id": "4txzhGtpRTMW",
        "outputId": "a0c363ee-0055-4608-b24b-e894d0a832a5"
      },
      "source": [
        "from nltk.corpus import stopwords \n",
        "nltk.download('stopwords')\n",
        "stop_words = stopwords.words('english')"
      ],
      "execution_count": null,
      "outputs": [
        {
          "output_type": "stream",
          "text": [
            "[nltk_data] Downloading package stopwords to /root/nltk_data...\n",
            "[nltk_data]   Unzipping corpora/stopwords.zip.\n"
          ],
          "name": "stdout"
        }
      ]
    },
    {
      "cell_type": "code",
      "metadata": {
        "id": "swLuVKvIRW1t"
      },
      "source": [
        "df_temp['review'] = df_temp['review'].str.lower()\n",
        "df_temp['review'] =  df_temp['review'].apply(lambda x: re.sub(r'\\W+|\\d+|(br)',' ', str(x)))\n",
        "df_temp['review'] = df_temp['review'].apply(lambda x: x.rstrip())\n",
        "df_temp['review'] = df_temp['review'].apply(lambda x : ' '.join([w for w in x.split() if not w in stop_words]))"
      ],
      "execution_count": null,
      "outputs": []
    },
    {
      "cell_type": "code",
      "metadata": {
        "colab": {
          "base_uri": "https://localhost:8080/",
          "height": 165
        },
        "id": "pHWw6rxOReH6",
        "outputId": "269147e8-a2ed-4f17-d464-57370b9cb75f"
      },
      "source": [
        "df['review'][0]"
      ],
      "execution_count": null,
      "outputs": [
        {
          "output_type": "execute_result",
          "data": {
            "application/vnd.google.colaboratory.intrinsic+json": {
              "type": "string"
            },
            "text/plain": [
              "\"One of the other reviewers has mentioned that after watching just 1 Oz episode you'll be hooked. They are right, as this is exactly what happened with me.<br /><br />The first thing that struck me about Oz was its brutality and unflinching scenes of violence, which set in right from the word GO. Trust me, this is not a show for the faint hearted or timid. This show pulls no punches with regards to drugs, sex or violence. Its is hardcore, in the classic use of the word.<br /><br />It is called OZ as that is the nickname given to the Oswald Maximum Security State Penitentary. It focuses mainly on Emerald City, an experimental section of the prison where all the cells have glass fronts and face inwards, so privacy is not high on the agenda. Em City is home to many..Aryans, Muslims, gangstas, Latinos, Christians, Italians, Irish and more....so scuffles, death stares, dodgy dealings and shady agreements are never far away.<br /><br />I would say the main appeal of the show is due to the fact that it goes where other shows wouldn't dare. Forget pretty pictures painted for mainstream audiences, forget charm, forget romance...OZ doesn't mess around. The first episode I ever saw struck me as so nasty it was surreal, I couldn't say I was ready for it, but as I watched more, I developed a taste for Oz, and got accustomed to the high levels of graphic violence. Not just violence, but injustice (crooked guards who'll be sold out for a nickel, inmates who'll kill on order and get away with it, well mannered, middle class inmates being turned into prison bitches due to their lack of street skills or prison experience) Watching Oz, you may become comfortable with what is uncomfortable viewing....thats if you can get in touch with your darker side.\""
            ]
          },
          "metadata": {
            "tags": []
          },
          "execution_count": 12
        }
      ]
    },
    {
      "cell_type": "code",
      "metadata": {
        "colab": {
          "base_uri": "https://localhost:8080/",
          "height": 116
        },
        "id": "rVeYJ4rbRrMy",
        "outputId": "b4a8caba-40eb-4178-e3f5-59e8728e8596"
      },
      "source": [
        "df_temp['review'][0]"
      ],
      "execution_count": null,
      "outputs": [
        {
          "output_type": "execute_result",
          "data": {
            "application/vnd.google.colaboratory.intrinsic+json": {
              "type": "string"
            },
            "text/plain": [
              "'one reviewers mentioned watching oz episode hooked right exactly happened first thing struck oz utality unflinching scenes violence set right word go trust show faint hearted timid show pulls punches regards drugs sex violence hardcore classic use word called oz nickname given oswald maximum security state penitentary focuses mainly emerald city experimental section prison cells glass fronts face inwards privacy high agenda em city home many aryans muslims gangstas latinos christians italians irish scuffles death stares dodgy dealings shady agreements never far away would say main appeal show due fact goes shows dare forget pretty pictures painted mainstream audiences forget charm forget romance oz mess around first episode ever saw struck nasty surreal say ready watched developed taste oz got accustomed high levels graphic violence violence injustice crooked guards sold nickel inmates kill order get away well mannered middle class inmates turned prison bitches due lack street skills prison experience watching oz may become comfortable uncomfortable viewing thats get touch darker side'"
            ]
          },
          "metadata": {
            "tags": []
          },
          "execution_count": 13
        }
      ]
    },
    {
      "cell_type": "code",
      "metadata": {
        "id": "jso-pEDIR2SK"
      },
      "source": [
        "corpus = ' '.join(df_temp['review'].tolist())\n",
        "word_dist = nltk.FreqDist(corpus.split())"
      ],
      "execution_count": null,
      "outputs": []
    },
    {
      "cell_type": "code",
      "metadata": {
        "colab": {
          "base_uri": "https://localhost:8080/"
        },
        "id": "WgDFhIVSSAQu",
        "outputId": "dfac747b-0093-428b-8ff3-da0f4f9fc26c"
      },
      "source": [
        "for i in [1000,5000,7500,10000,12000,15000,20000]:\n",
        "    most_words = word_dist.most_common(i)\n",
        "    print('Percentage of Corpus captured with %s words is %.2f'%(i,np.sum([int(x[1]) for x in most_words]) / len(corpus.split()) * 100 ))"
      ],
      "execution_count": null,
      "outputs": [
        {
          "output_type": "stream",
          "text": [
            "Percentage of Corpus captured with 1000 words is 57.38\n",
            "Percentage of Corpus captured with 5000 words is 82.00\n",
            "Percentage of Corpus captured with 7500 words is 86.86\n",
            "Percentage of Corpus captured with 10000 words is 89.84\n",
            "Percentage of Corpus captured with 12000 words is 91.52\n",
            "Percentage of Corpus captured with 15000 words is 93.36\n",
            "Percentage of Corpus captured with 20000 words is 95.33\n"
          ],
          "name": "stdout"
        }
      ]
    },
    {
      "cell_type": "markdown",
      "metadata": {
        "id": "6FRdfbOlSLLo"
      },
      "source": [
        "\n",
        "**We will choose 12,000 vocab size for our corpus.**"
      ]
    },
    {
      "cell_type": "markdown",
      "metadata": {
        "id": "B2aur1Q0SUWX"
      },
      "source": [
        "Estimating the length of vector.."
      ]
    },
    {
      "cell_type": "code",
      "metadata": {
        "colab": {
          "base_uri": "https://localhost:8080/",
          "height": 191
        },
        "id": "OBbquGtOSF7O",
        "outputId": "5b845018-7118-4aa8-ba36-16ff65de1dcf"
      },
      "source": [
        "df_temp.head()"
      ],
      "execution_count": null,
      "outputs": [
        {
          "output_type": "execute_result",
          "data": {
            "text/html": [
              "<div>\n",
              "<style scoped>\n",
              "    .dataframe tbody tr th:only-of-type {\n",
              "        vertical-align: middle;\n",
              "    }\n",
              "\n",
              "    .dataframe tbody tr th {\n",
              "        vertical-align: top;\n",
              "    }\n",
              "\n",
              "    .dataframe thead th {\n",
              "        text-align: right;\n",
              "    }\n",
              "</style>\n",
              "<table border=\"1\" class=\"dataframe\">\n",
              "  <thead>\n",
              "    <tr style=\"text-align: right;\">\n",
              "      <th></th>\n",
              "      <th>review</th>\n",
              "      <th>sentiment</th>\n",
              "    </tr>\n",
              "  </thead>\n",
              "  <tbody>\n",
              "    <tr>\n",
              "      <th>0</th>\n",
              "      <td>one reviewers mentioned watching oz episode ho...</td>\n",
              "      <td>1</td>\n",
              "    </tr>\n",
              "    <tr>\n",
              "      <th>1</th>\n",
              "      <td>wonderful little production filming technique ...</td>\n",
              "      <td>1</td>\n",
              "    </tr>\n",
              "    <tr>\n",
              "      <th>2</th>\n",
              "      <td>thought wonderful way spend time hot summer we...</td>\n",
              "      <td>1</td>\n",
              "    </tr>\n",
              "    <tr>\n",
              "      <th>3</th>\n",
              "      <td>basically family little boy jake thinks zombie...</td>\n",
              "      <td>0</td>\n",
              "    </tr>\n",
              "    <tr>\n",
              "      <th>4</th>\n",
              "      <td>petter mattei love time money visually stunnin...</td>\n",
              "      <td>1</td>\n",
              "    </tr>\n",
              "  </tbody>\n",
              "</table>\n",
              "</div>"
            ],
            "text/plain": [
              "                                              review  sentiment\n",
              "0  one reviewers mentioned watching oz episode ho...          1\n",
              "1  wonderful little production filming technique ...          1\n",
              "2  thought wonderful way spend time hot summer we...          1\n",
              "3  basically family little boy jake thinks zombie...          0\n",
              "4  petter mattei love time money visually stunnin...          1"
            ]
          },
          "metadata": {
            "tags": []
          },
          "execution_count": 16
        }
      ]
    },
    {
      "cell_type": "code",
      "metadata": {
        "colab": {
          "base_uri": "https://localhost:8080/"
        },
        "id": "V7fkZCWSSXmh",
        "outputId": "905bc868-6a00-4e1d-bf16-a8cde15555ba"
      },
      "source": [
        "len(df_temp['review'][0].split())"
      ],
      "execution_count": null,
      "outputs": [
        {
          "output_type": "execute_result",
          "data": {
            "text/plain": [
              "162"
            ]
          },
          "metadata": {
            "tags": []
          },
          "execution_count": 17
        }
      ]
    },
    {
      "cell_type": "code",
      "metadata": {
        "id": "l3Z6q6aISi03"
      },
      "source": [
        "corpus_list = df_temp['review'].tolist()"
      ],
      "execution_count": null,
      "outputs": []
    },
    {
      "cell_type": "code",
      "metadata": {
        "id": "fRgRNfwfSZyP"
      },
      "source": [
        "len_review = []\n",
        "for i in corpus_list:\n",
        "    len_review.append(len(i.split()))"
      ],
      "execution_count": null,
      "outputs": []
    },
    {
      "cell_type": "code",
      "metadata": {
        "id": "1iHEi6efSd0M"
      },
      "source": [
        "len_review = np.array(len_review)"
      ],
      "execution_count": null,
      "outputs": []
    },
    {
      "cell_type": "code",
      "metadata": {
        "colab": {
          "base_uri": "https://localhost:8080/"
        },
        "id": "pAjn4I68SmOL",
        "outputId": "92bf3080-8f97-4487-d6e8-2d45c3f9a7f0"
      },
      "source": [
        "print('Average Length of Review:', np.mean(len_review))\n",
        "print('Std Deviation of Reviews:', np.std(len_review))"
      ],
      "execution_count": null,
      "outputs": [
        {
          "output_type": "stream",
          "text": [
            "Average Length of Review: 118.12304\n",
            "Std Deviation of Reviews: 89.39626648332914\n"
          ],
          "name": "stdout"
        }
      ]
    },
    {
      "cell_type": "code",
      "metadata": {
        "colab": {
          "base_uri": "https://localhost:8080/"
        },
        "id": "Is79vX_1Sowx",
        "outputId": "52cf306d-db73-4481-e43a-d654269120d1"
      },
      "source": [
        "mean = np.mean(len_review)\n",
        "std = np.std(len_review)\n",
        "\n",
        "for i in range(3):\n",
        "    print('Percentage of Reviews less than or equal to mean + %s standard dev: %.2f'%(i,len(len_review[len_review <= np.mean(len_review) + i * np.std(len_review)]) / len(len_review)))"
      ],
      "execution_count": null,
      "outputs": [
        {
          "output_type": "stream",
          "text": [
            "Percentage of Reviews less than or equal to mean + 0 standard dev: 0.67\n",
            "Percentage of Reviews less than or equal to mean + 1 standard dev: 0.87\n",
            "Percentage of Reviews less than or equal to mean + 2 standard dev: 0.95\n"
          ],
          "name": "stdout"
        }
      ]
    },
    {
      "cell_type": "markdown",
      "metadata": {
        "id": "8SEUld_wSxE2"
      },
      "source": [
        "87% of reviews are less than mean + 1 std dev length, which will be our optimal length of vector.\n",
        "\n"
      ]
    },
    {
      "cell_type": "code",
      "metadata": {
        "colab": {
          "base_uri": "https://localhost:8080/"
        },
        "id": "-7HEMUu9SuMn",
        "outputId": "92f427a8-c96a-4efc-e99e-39f51956d2e2"
      },
      "source": [
        "print('Length of Vector is', np.round(mean+std,2))"
      ],
      "execution_count": null,
      "outputs": [
        {
          "output_type": "stream",
          "text": [
            "Length of Vector is 207.52\n"
          ],
          "name": "stdout"
        }
      ]
    },
    {
      "cell_type": "code",
      "metadata": {
        "id": "gVLL6YjiSz-U"
      },
      "source": [
        "X_train, X_test, y_train, y_test = train_test_split(df['review'], df['sentiment'], test_size = 0.2)"
      ],
      "execution_count": null,
      "outputs": []
    },
    {
      "cell_type": "code",
      "metadata": {
        "colab": {
          "base_uri": "https://localhost:8080/"
        },
        "id": "KhOSXdCIS3re",
        "outputId": "775a7347-5a1c-4a66-bd05-39d983e73444"
      },
      "source": [
        "X_train.shape, X_test.shape"
      ],
      "execution_count": null,
      "outputs": [
        {
          "output_type": "execute_result",
          "data": {
            "text/plain": [
              "((40000,), (10000,))"
            ]
          },
          "metadata": {
            "tags": []
          },
          "execution_count": 26
        }
      ]
    },
    {
      "cell_type": "code",
      "metadata": {
        "id": "64RtLEePS5ll"
      },
      "source": [
        "# Load data using tf.data.Dataset\n",
        "\n",
        "train_dataset = tf.data.Dataset.from_tensor_slices((X_train, y_train))\n",
        "test_dataset = tf.data.Dataset.from_tensor_slices((X_test, y_test))"
      ],
      "execution_count": null,
      "outputs": []
    },
    {
      "cell_type": "code",
      "metadata": {
        "colab": {
          "base_uri": "https://localhost:8080/"
        },
        "id": "36MV7lZOTDes",
        "outputId": "6e6f7326-d732-4191-c71c-281d654d6531"
      },
      "source": [
        "for feat, targ in train_dataset.take(1):\n",
        "  print('text: ', feat.numpy())\n",
        "  print('label: ', targ.numpy())"
      ],
      "execution_count": null,
      "outputs": [
        {
          "output_type": "stream",
          "text": [
            "text:  b'I remember being so excited on Saturday nights when I was a kid, waiting for Dr. Who. I thought it was the best show ever made. Then, I grew up, Dr. Who went off the air, and no one I knew had ever heard of it. Then I found out there was going to be a new series. I was a little nervous about it. Was it going to live up to the expectations I had carried around since I was little? Would they screw it up? Would the Dr. suck? Would his assistant suck? Would they create a more intimate relationship with the Dr. and his assistant? YES, NO, NO, NO, NO!!! This show is wonderful!! I love the new Dr. I love his assistant. I love the show. And I find myself excited on Friday nights now, waiting for the \"new\" episode. I\\'m just now seeing 2005 episodes, as I live in the States, so I\\'m a little behind the rest of you. I hope the next Dr. is as great as this one!'\n",
            "label:  1\n"
          ],
          "name": "stdout"
        }
      ]
    },
    {
      "cell_type": "code",
      "metadata": {
        "id": "yRkRJbZ5TG61"
      },
      "source": [
        "BUFFER_SIZE = 20000\n",
        "BATCH_SIZE = 512\n",
        "\n",
        "train_dataset = train_dataset.shuffle(BUFFER_SIZE).batch(BATCH_SIZE).prefetch(tf.data.AUTOTUNE)\n",
        "test_dataset = test_dataset.batch(BATCH_SIZE).prefetch(tf.data.AUTOTUNE)"
      ],
      "execution_count": null,
      "outputs": []
    },
    {
      "cell_type": "code",
      "metadata": {
        "id": "Ibiqgdm4TU2f"
      },
      "source": [
        "VOCAB_SIZE = 5000\n",
        "encoder = tf.keras.layers.experimental.preprocessing.TextVectorization(\n",
        "    max_tokens = VOCAB_SIZE, standardize = 'lower_and_strip_punctuation',\n",
        "    output_mode = 'int', output_sequence_length = 200,\n",
        ")"
      ],
      "execution_count": null,
      "outputs": []
    },
    {
      "cell_type": "code",
      "metadata": {
        "id": "VKvkvdp-TYjh"
      },
      "source": [
        "encoder.adapt(train_dataset.map(lambda text, label: text))"
      ],
      "execution_count": null,
      "outputs": []
    },
    {
      "cell_type": "code",
      "metadata": {
        "id": "-egaDvQcTamb"
      },
      "source": [
        "vocab = np.array(encoder.get_vocabulary())"
      ],
      "execution_count": null,
      "outputs": []
    },
    {
      "cell_type": "code",
      "metadata": {
        "colab": {
          "base_uri": "https://localhost:8080/"
        },
        "id": "v01IF6h3TvKg",
        "outputId": "a9118c6b-c73a-450d-914f-856f72bbd195"
      },
      "source": [
        "for example, label in train_dataset.take(1):\n",
        "  print('texts: ', example.numpy()[:3])\n",
        "  print()\n",
        "  print('labels: ', label.numpy()[:3])"
      ],
      "execution_count": null,
      "outputs": [
        {
          "output_type": "stream",
          "text": [
            "texts:  [b\"Were it not for the fact that this came as a 2-dvd set paired with the original American Graffiti; were it not for the fact that I've been here in Iraq for several months and, at this point, will watch pretty much anything, I would have tossed this movie in the garbage after the first ten minutes. This movie was appallingly bad on so many levels I just don't know where to start. Poorly acted, shot, directed, written, scored, edited. My 9-year old daughter's first forays into film-making are superior to this - and she was filming the dog sleeping. (Come to think of it, I give that piece of cinematography 9 stars. But I'm biased.) If you have even the slightest appreciation for quality film-making, then avoid this piece of garbage at all costs. No character in this movie has a single redeeming quality save for the Icelandic girl who doesn't even have a single line in English. I'll not waste more of my time describing what a bad movie this is.\"\n",
            " b\"A woman in love with her husband (he's suicidal) decides to have a baby to save his life. She's been to a fertility clinic - as has the lover she takes - so both know how artificial insemination works; but, instead of using the method thousands of people use every year around the world (the $5 turkey baster), they engage in coitus. We also are to believe that although the immigrant is in love with his fianc\\xc3\\xa9e, he doesn't suggest the obvious alternative to intercourse. Further, even though this is a business arrangement, the first time she's with her sperm donor, she takes off all her clothes, as if it's a seduction. Plus, her husband doesn't notice when $30,000 goes missing from their bank accounts. Does all this seem to demand more willing suspension of disbelief than even most Hollywood fare? Far fetched on all counts.\"\n",
            " b\"The plot is real horrific, the atmosphere really depressive, unusual for a low-budget production like that, and at least, for a German production. A little bit of Indian spirituality, mystic thriller and slasher movie mixed together. The development of plot and characters are great, the sets very close to reality, without any studio-atmosphere. It could be perfect, but at unfortunately some things were a little bit disappointing, what don't inevitably have to be typically for low-budget movies:<br /><br />1.) The cast sometimes is not more than average. Almost every actor look like a layman. Some of them do a good, or a very good job, but some are acting like the actors of crappy German court-shows! But I was very, very disappointed of the acting of Mathieu Carri\\xc3\\xa8re! His acting ( in a lots of of his older movies his acting was fine ) here was below-average! But that could be the reason, why he today takes part in crappy German soaps or TV-series on private channels.<br /><br />2.) The dialogs are sometimes on soap-opera-level. <br /><br />3.) The bad sound made it sometimes very hard to understand, what the characters are saying. I saw it on DVD and was glad to could rewind and to listen it again. It caused by the set ( big halls as in the hospital or with the esoterically group ) and sometimes the strange dialects of the actors!<br /><br />But all in all, it is an interesting movie, worth to watch it, far beyond the commercially movies, which are often more terrible.\"]\n",
            "\n",
            "labels:  [0 0 1]\n"
          ],
          "name": "stdout"
        }
      ]
    },
    {
      "cell_type": "code",
      "metadata": {
        "colab": {
          "base_uri": "https://localhost:8080/"
        },
        "id": "rFDGDgdvT8_K",
        "outputId": "e923838c-0c1e-4080-ed41-804f0a695942"
      },
      "source": [
        "encoded_example = encoder(example)[:3].numpy()\n",
        "encoded_example"
      ],
      "execution_count": null,
      "outputs": [
        {
          "output_type": "execute_result",
          "data": {
            "text/plain": [
              "array([[  67,    9,   22,   17,    2,  188,   12,   11,  371,   15,    4,\n",
              "           1,  275,    1,   16,    2,  209,  305,    1,   67,    9,   22,\n",
              "          17,    2,  188,   12,  195,   75,  136,    8, 4976,   17,  420,\n",
              "        1795,    3,   31,   11,  222,   79,  104,  180,   73,  235,   10,\n",
              "          59,   26,    1,   11,   18,    8,    2, 1212,  100,    2,   88,\n",
              "         734,  233,   11,   18,   14,    1,   83,   21,   38,  105, 2153,\n",
              "          10,   41,   89,  116,  115,    6,  366,  861,  978,  317,  525,\n",
              "         429,    1, 2037,   54,    1,  169, 2387,   88,    1,   82, 1560,\n",
              "          24, 1695,    6,   11,    3,   58,   14, 1352,    2,  850, 2747,\n",
              "         210,    6,  103,    5,    9,   10,  192,   12,  408,    5,  620,\n",
              "        1347,  410,   19,  141,    1,   44,   23,   26,   55,    2, 4136,\n",
              "        4777,   17,  485, 1560,   91,  797,   11,  408,    5, 1212,   31,\n",
              "          32, 2340,   56,  107,    8,   11,   18,   45,    4,  680, 1672,\n",
              "         485,  553,   17,    2,    1,  252,   37,  147,   55,   26,    4,\n",
              "         680,  364,    8,  626,  533,   22,  437,   52,    5,   54,   60,\n",
              "           1,   49,    4,   83,   18,   11,    7,    0,    0,    0,    0,\n",
              "           0,    0,    0,    0,    0,    0,    0,    0,    0,    0,    0,\n",
              "           0,    0,    0,    0,    0,    0,    0,    0,    0,    0,    0,\n",
              "           0,    0],\n",
              "       [   4,  255,    8,  111,   16,   42,  678,  230,    1, 1065,    6,\n",
              "          26,    4,  964,    6,  553,   25,  120,  447,   75,    6,    4,\n",
              "           1,    1,   15,   45,    2, 1545,   58,  296,   38,  190,  116,\n",
              "          85, 4901,    1,  504,   19,  301,    5,  775,    2, 4345, 2900,\n",
              "           5,   86,  336,  168,  347,  182,    2,  189,    2,  635, 2485,\n",
              "           1,   35, 4737,    8,    1,   72,   81,   24,    6,  253,   12,\n",
              "         254,    2,    1,    7,    8,  111,   16,   25,    1,   28,  147,\n",
              "        1418,    2,  582, 4355,    6,    1, 1054,   55,  154,   11,    7,\n",
              "           4,  988,    1,    2,   88,   60,  447,   16,   42,    1,    1,\n",
              "          58,  296,  125,   32,   42, 1653,   15,   44,   30,    4,    1,\n",
              "         908,   42,  678,  147, 1364,   51,    1,  262, 1012,   36,   64,\n",
              "        2058,    1,  122,   32,   11,  297,    6, 4804,   52, 1634,    1,\n",
              "           5, 2895,   71,   55,   87,  362, 2677,  225,    1,   21,   32,\n",
              "           1,    0,    0,    0,    0,    0,    0,    0,    0,    0,    0,\n",
              "           0,    0,    0,    0,    0,    0,    0,    0,    0,    0,    0,\n",
              "           0,    0,    0,    0,    0,    0,    0,    0,    0,    0,    0,\n",
              "           0,    0,    0,    0,    0,    0,    0,    0,    0,    0,    0,\n",
              "           0,    0,    0,    0,    0,    0,    0,    0,    0,    0,    0,\n",
              "           0,    0],\n",
              "       [   2,  118,    7,  145, 3106,    2,  847,   62,    1, 1701,   17,\n",
              "           4, 1976,  358,   39,   12,    3,   31,  219,   17,    4, 1047,\n",
              "         358,    4,  117,  223,    5, 1257,    1,    1,  761,    3, 1321,\n",
              "          18, 1883,  299,    2,  980,    5,  118,    3,  102,   24,   80,\n",
              "           2,  708,   53,  554,    6,  640,  200,   99,    1,    9,   97,\n",
              "          27,  397,   19,   31,  474,   47,  178,   67,    4,  117,  223,\n",
              "        1341,   49,   89,    1,   26,    6,   27, 3465,   17, 1976, 3289,\n",
              "          13,  481,    2,  179,  512,    7,   22,   52,   71,  866,  207,\n",
              "         168,  293,  161,   39,    4,    1,   47,    5,   95,   78,    4,\n",
              "          50,   40,    4,   53,   50,  291,   19,   47,   24,  112,   39,\n",
              "           2,  151,    5, 1916, 1047,    1,   19,   10,   14,   53,   53,\n",
              "         695,    5,    2,  112,    5,    1,    1,   25,  112,    8,    4,\n",
              "         731,    5,    5,   25,  936,   93,   25,  112,   14,  483,  136,\n",
              "          14,    1,   19,   12,   97,   27,    2,  280,  135,   28,  649,\n",
              "         296,  170,    8, 1916, 1047,    1,   40,    1,   21, 1799,    1,\n",
              "          13,  286,    2, 3206,   24,  512,   21,    1,   13,   13,  440,\n",
              "           2,   83,  435,   92,    9,  512,   53,  263,    6,  376,   49,\n",
              "           2,  102,   24,  612,   10,  201,    9,   21,  270,    3,   14,\n",
              "        1196,    6]])"
            ]
          },
          "metadata": {
            "tags": []
          },
          "execution_count": 34
        }
      ]
    },
    {
      "cell_type": "code",
      "metadata": {
        "colab": {
          "base_uri": "https://localhost:8080/"
        },
        "id": "vtIvxPiBUSnr",
        "outputId": "a8143f9f-7ec5-4bc5-ac41-25f9532afe96"
      },
      "source": [
        "for n in range(3):\n",
        "  print(\"Original: \", example[n].numpy())\n",
        "  print(\"Round-trip: \", \" \".join(vocab[encoded_example[n]]))\n",
        "  print()"
      ],
      "execution_count": null,
      "outputs": [
        {
          "output_type": "stream",
          "text": [
            "Original:  b\"Were it not for the fact that this came as a 2-dvd set paired with the original American Graffiti; were it not for the fact that I've been here in Iraq for several months and, at this point, will watch pretty much anything, I would have tossed this movie in the garbage after the first ten minutes. This movie was appallingly bad on so many levels I just don't know where to start. Poorly acted, shot, directed, written, scored, edited. My 9-year old daughter's first forays into film-making are superior to this - and she was filming the dog sleeping. (Come to think of it, I give that piece of cinematography 9 stars. But I'm biased.) If you have even the slightest appreciation for quality film-making, then avoid this piece of garbage at all costs. No character in this movie has a single redeeming quality save for the Icelandic girl who doesn't even have a single line in English. I'll not waste more of my time describing what a bad movie this is.\"\n",
            "Round-trip:  were it not for the fact that this came as a [UNK] set [UNK] with the original american [UNK] were it not for the fact that ive been here in iraq for several months and at this point will watch pretty much anything i would have [UNK] this movie in the garbage after the first ten minutes this movie was [UNK] bad on so many levels i just dont know where to start poorly acted shot directed written [UNK] edited my [UNK] old daughters first [UNK] into filmmaking are superior to this and she was filming the dog sleeping come to think of it i give that piece of cinematography 9 stars but im [UNK] if you have even the slightest appreciation for quality filmmaking then avoid this piece of garbage at all costs no character in this movie has a single redeeming quality save for the [UNK] girl who doesnt even have a single line in english ill not waste more of my time [UNK] what a bad movie this is                            \n",
            "\n",
            "Original:  b\"A woman in love with her husband (he's suicidal) decides to have a baby to save his life. She's been to a fertility clinic - as has the lover she takes - so both know how artificial insemination works; but, instead of using the method thousands of people use every year around the world (the $5 turkey baster), they engage in coitus. We also are to believe that although the immigrant is in love with his fianc\\xc3\\xa9e, he doesn't suggest the obvious alternative to intercourse. Further, even though this is a business arrangement, the first time she's with her sperm donor, she takes off all her clothes, as if it's a seduction. Plus, her husband doesn't notice when $30,000 goes missing from their bank accounts. Does all this seem to demand more willing suspension of disbelief than even most Hollywood fare? Far fetched on all counts.\"\n",
            "Round-trip:  a woman in love with her husband hes [UNK] decides to have a baby to save his life shes been to a [UNK] [UNK] as has the lover she takes so both know how artificial [UNK] works but instead of using the method thousands of people use every year around the world the 5 turkey [UNK] they engage in [UNK] we also are to believe that although the [UNK] is in love with his [UNK] he doesnt suggest the obvious alternative to [UNK] further even though this is a business [UNK] the first time shes with her [UNK] [UNK] she takes off all her clothes as if its a [UNK] plus her husband doesnt notice when [UNK] goes missing from their bank [UNK] does all this seem to demand more willing [UNK] of disbelief than even most hollywood fare far [UNK] on all [UNK]                                                        \n",
            "\n",
            "Original:  b\"The plot is real horrific, the atmosphere really depressive, unusual for a low-budget production like that, and at least, for a German production. A little bit of Indian spirituality, mystic thriller and slasher movie mixed together. The development of plot and characters are great, the sets very close to reality, without any studio-atmosphere. It could be perfect, but at unfortunately some things were a little bit disappointing, what don't inevitably have to be typically for low-budget movies:<br /><br />1.) The cast sometimes is not more than average. Almost every actor look like a layman. Some of them do a good, or a very good job, but some are acting like the actors of crappy German court-shows! But I was very, very disappointed of the acting of Mathieu Carri\\xc3\\xa8re! His acting ( in a lots of of his older movies his acting was fine ) here was below-average! But that could be the reason, why he today takes part in crappy German soaps or TV-series on private channels.<br /><br />2.) The dialogs are sometimes on soap-opera-level. <br /><br />3.) The bad sound made it sometimes very hard to understand, what the characters are saying. I saw it on DVD and was glad to could rewind and to listen it again. It caused by the set ( big halls as in the hospital or with the esoterically group ) and sometimes the strange dialects of the actors!<br /><br />But all in all, it is an interesting movie, worth to watch it, far beyond the commercially movies, which are often more terrible.\"\n",
            "Round-trip:  the plot is real horrific the atmosphere really [UNK] unusual for a lowbudget production like that and at least for a german production a little bit of indian [UNK] [UNK] thriller and slasher movie mixed together the development of plot and characters are great the sets very close to reality without any [UNK] it could be perfect but at unfortunately some things were a little bit disappointing what dont [UNK] have to be typically for lowbudget moviesbr br 1 the cast sometimes is not more than average almost every actor look like a [UNK] some of them do a good or a very good job but some are acting like the actors of crappy german [UNK] but i was very very disappointed of the acting of [UNK] [UNK] his acting in a lots of of his older movies his acting was fine here was [UNK] but that could be the reason why he today takes part in crappy german [UNK] or [UNK] on private [UNK] br 2 the dialogs are sometimes on [UNK] br br 3 the bad sound made it sometimes very hard to understand what the characters are saying i saw it on dvd and was glad to\n",
            "\n"
          ],
          "name": "stdout"
        }
      ]
    },
    {
      "cell_type": "code",
      "metadata": {
        "id": "VLsdvA4vUV0L"
      },
      "source": [
        "from tensorflow.keras.layers import Bidirectional,LSTM, Dense, Embedding, Dropout, GlobalAveragePooling1D"
      ],
      "execution_count": null,
      "outputs": []
    },
    {
      "cell_type": "code",
      "metadata": {
        "id": "pwTw1UM5Ubl2"
      },
      "source": [
        "model = tf.keras.Sequential([\n",
        "    encoder,\n",
        "    Embedding(input_dim=len(encoder.get_vocabulary()), output_dim= 256, mask_zero=True),\n",
        "    GlobalAveragePooling1D(),\n",
        "    Dropout(0.2),\n",
        "    Dense(128, activation = 'relu'),\n",
        "    Dropout(0.2),\n",
        "    Dense(1, activation = 'sigmoid')])"
      ],
      "execution_count": null,
      "outputs": []
    },
    {
      "cell_type": "code",
      "metadata": {
        "id": "rkJBwWcgUf0z"
      },
      "source": [
        "model.compile(optimizer= tf.keras.optimizers.Adam(learning_rate= 0.001), \n",
        "              loss = tf.keras.losses.BinaryCrossentropy(from_logits= False), metrics = ['accuracy'])"
      ],
      "execution_count": null,
      "outputs": []
    },
    {
      "cell_type": "code",
      "metadata": {
        "colab": {
          "base_uri": "https://localhost:8080/"
        },
        "id": "I65WDhBFUkfi",
        "outputId": "bea52c07-bfa0-4d6d-abeb-4092f1a5f4f6"
      },
      "source": [
        "history = model.fit(train_dataset, epochs=10,\n",
        "                    validation_data=test_dataset, \n",
        "                    validation_steps=5)"
      ],
      "execution_count": null,
      "outputs": [
        {
          "output_type": "stream",
          "text": [
            "Epoch 1/10\n",
            "79/79 [==============================] - 14s 168ms/step - loss: 0.6450 - accuracy: 0.6699 - val_loss: 0.3630 - val_accuracy: 0.8395\n",
            "Epoch 2/10\n",
            "79/79 [==============================] - 15s 186ms/step - loss: 0.3357 - accuracy: 0.8565 - val_loss: 0.2999 - val_accuracy: 0.8715\n",
            "Epoch 3/10\n",
            "79/79 [==============================] - 13s 169ms/step - loss: 0.2704 - accuracy: 0.8894 - val_loss: 0.2890 - val_accuracy: 0.8781\n",
            "Epoch 4/10\n",
            "79/79 [==============================] - 14s 177ms/step - loss: 0.2533 - accuracy: 0.8973 - val_loss: 0.2884 - val_accuracy: 0.8754\n",
            "Epoch 5/10\n",
            "79/79 [==============================] - 14s 176ms/step - loss: 0.2419 - accuracy: 0.9033 - val_loss: 0.2956 - val_accuracy: 0.8746\n",
            "Epoch 6/10\n",
            "79/79 [==============================] - 14s 181ms/step - loss: 0.2337 - accuracy: 0.9069 - val_loss: 0.2961 - val_accuracy: 0.8762\n",
            "Epoch 7/10\n",
            "79/79 [==============================] - 15s 187ms/step - loss: 0.2223 - accuracy: 0.9122 - val_loss: 0.3053 - val_accuracy: 0.8754\n",
            "Epoch 8/10\n",
            "79/79 [==============================] - 15s 184ms/step - loss: 0.2177 - accuracy: 0.9144 - val_loss: 0.3094 - val_accuracy: 0.8758\n",
            "Epoch 9/10\n",
            "79/79 [==============================] - 13s 169ms/step - loss: 0.2181 - accuracy: 0.9138 - val_loss: 0.3108 - val_accuracy: 0.8734\n",
            "Epoch 10/10\n",
            "79/79 [==============================] - 13s 170ms/step - loss: 0.2143 - accuracy: 0.9169 - val_loss: 0.3129 - val_accuracy: 0.8707\n"
          ],
          "name": "stdout"
        }
      ]
    },
    {
      "cell_type": "code",
      "metadata": {
        "colab": {
          "base_uri": "https://localhost:8080/"
        },
        "id": "6GFK00-QUofc",
        "outputId": "2c5d3f3b-539f-43d2-f547-09704a6dba5d"
      },
      "source": [
        "loss, accuracy = model.evaluate(test_dataset)\n",
        "\n",
        "print(\"Loss: \", loss)\n",
        "print(\"Accuracy: \", accuracy)"
      ],
      "execution_count": null,
      "outputs": [
        {
          "output_type": "stream",
          "text": [
            "20/20 [==============================] - 2s 110ms/step - loss: 0.3398 - accuracy: 0.8622\n",
            "Loss:  0.33981040120124817\n",
            "Accuracy:  0.8622000217437744\n"
          ],
          "name": "stdout"
        }
      ]
    },
    {
      "cell_type": "code",
      "metadata": {
        "colab": {
          "base_uri": "https://localhost:8080/"
        },
        "id": "sUd5a8C5Us12",
        "outputId": "dfc4b12d-c888-4df7-d758-58994a233cc0"
      },
      "source": [
        "history_dict = history.history\n",
        "history_dict.keys()"
      ],
      "execution_count": null,
      "outputs": [
        {
          "output_type": "execute_result",
          "data": {
            "text/plain": [
              "dict_keys(['loss', 'accuracy', 'val_loss', 'val_accuracy'])"
            ]
          },
          "metadata": {
            "tags": []
          },
          "execution_count": 41
        }
      ]
    },
    {
      "cell_type": "code",
      "metadata": {
        "colab": {
          "base_uri": "https://localhost:8080/",
          "height": 295
        },
        "id": "rgv2R6gPUsRg",
        "outputId": "d0eb2c74-d8c8-4ef2-ff90-5edc4bd677ed"
      },
      "source": [
        "acc = history_dict['accuracy']\n",
        "val_acc = history_dict['val_accuracy']\n",
        "loss = history_dict['loss']\n",
        "val_loss = history_dict['val_loss']\n",
        "\n",
        "epochs = range(1, len(acc) + 1)\n",
        "\n",
        "# \"bo\" is for \"blue dot\"\n",
        "plt.plot(epochs, loss, 'bo', label='Training loss')\n",
        "# b is for \"solid blue line\"\n",
        "plt.plot(epochs, val_loss, 'b', label='Validation loss')\n",
        "plt.title('Training and validation loss')\n",
        "plt.xlabel('Epochs')\n",
        "plt.ylabel('Loss')\n",
        "plt.legend()\n",
        "plt.show()"
      ],
      "execution_count": null,
      "outputs": [
        {
          "output_type": "display_data",
          "data": {
            "image/png": "[encoded data removed]",
            "text/plain": [
              "<Figure size 432x288 with 1 Axes>"
            ]
          },
          "metadata": {
            "tags": [],
            "needs_background": "light"
          }
        }
      ]
    },
    {
      "cell_type": "code",
      "metadata": {
        "colab": {
          "base_uri": "https://localhost:8080/",
          "height": 295
        },
        "id": "y6I3It7IUr4T",
        "outputId": "9ab9d24f-87a8-4b5a-858b-33261b2ad474"
      },
      "source": [
        "plt.plot(epochs, acc, 'bo', label='Training acc')\n",
        "plt.plot(epochs, val_acc, 'b', label='Validation acc')\n",
        "plt.title('Training and validation accuracy')\n",
        "plt.xlabel('Epochs')\n",
        "plt.ylabel('Accuracy')\n",
        "plt.legend(loc='lower right')\n",
        "\n",
        "plt.show()"
      ],
      "execution_count": null,
      "outputs": [
        {
          "output_type": "display_data",
          "data": {
            "image/png": "[encoded data removed]",
            "text/plain": [
              "<Figure size 432x288 with 1 Axes>"
            ]
          },
          "metadata": {
            "tags": [],
            "needs_background": "light"
          }
        }
      ]
    },
    {
      "cell_type": "code",
      "metadata": {
        "id": "Sfn7xG9DU3vG"
      },
      "source": [
        "example = ['GODZILLA VS. KONG is laced with a great story and buildup and the climax battle between the monsters is amazing',\n",
        "          'The movie was terrible']"
      ],
      "execution_count": null,
      "outputs": []
    },
    {
      "cell_type": "code",
      "metadata": {
        "colab": {
          "base_uri": "https://localhost:8080/"
        },
        "id": "xUsC0rpnU3rO",
        "outputId": "ec454a0e-fd1d-4cdd-feda-e04a9a583c67"
      },
      "source": [
        "model.predict(example)"
      ],
      "execution_count": null,
      "outputs": [
        {
          "output_type": "execute_result",
          "data": {
            "text/plain": [
              "array([[9.9999785e-01],\n",
              "       [1.1029362e-13]], dtype=float32)"
            ]
          },
          "metadata": {
            "tags": []
          },
          "execution_count": 45
        }
      ]
    },
    {
      "cell_type": "code",
      "metadata": {
        "id": "9rrRo8wXVfPR"
      },
      "source": [
        "import os\n",
        "path=\"/content/drive/MyDrive/TextFiles\"\n",
        "os.chdir(path)"
      ],
      "execution_count": null,
      "outputs": []
    },
    {
      "cell_type": "code",
      "metadata": {
        "colab": {
          "base_uri": "https://localhost:8080/"
        },
        "id": "R5GuLkfIU8HQ",
        "outputId": "9d7833ad-a649-4fd5-d1ff-22202bc2eb44"
      },
      "source": [
        "model.save('tf_keras_imdb')"
      ],
      "execution_count": null,
      "outputs": [
        {
          "output_type": "stream",
          "text": [
            "INFO:tensorflow:Assets written to: tf_keras_imdb/assets\n"
          ],
          "name": "stdout"
        }
      ]
    },
    {
      "cell_type": "code",
      "metadata": {
        "id": "TXyNJHfwU8D1"
      },
      "source": [
        "exported_model = tf.keras.models.load_model('tf_keras_imdb/')"
      ],
      "execution_count": null,
      "outputs": []
    },
    {
      "cell_type": "code",
      "metadata": {
        "colab": {
          "base_uri": "https://localhost:8080/"
        },
        "id": "HCfq_yDWVGdB",
        "outputId": "be65bcc0-7b99-4103-9734-9b9e74a89919"
      },
      "source": [
        "exported_model.predict(['GODZILLA VS. KONG is laced with a great story and buildup and the climax battle between the monsters is amazing'])"
      ],
      "execution_count": null,
      "outputs": [
        {
          "output_type": "execute_result",
          "data": {
            "text/plain": [
              "array([[0.9999978]], dtype=float32)"
            ]
          },
          "metadata": {
            "tags": []
          },
          "execution_count": 49
        }
      ]
    },
    {
      "cell_type": "code",
      "metadata": {
        "id": "DkimS247Vvmh"
      },
      "source": [
        ""
      ],
      "execution_count": null,
      "outputs": []
    }
  ]
}